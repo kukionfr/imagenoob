{
 "cells": [
  {
   "cell_type": "code",
   "execution_count": 4,
   "outputs": [],
   "source": [
    "import glob\n",
    "import os\n",
    "from random import sample"
   ],
   "metadata": {
    "collapsed": false,
    "pycharm": {
     "name": "#%%\n"
    }
   }
  },
  {
   "cell_type": "code",
   "execution_count": 17,
   "outputs": [],
   "source": [
    "src = r'\\\\fatherserverdw\\Q\\research\\images\\pix2pix\\trainingset_v1\\NS'\n",
    "dst = r'\\\\fatherserverdw\\Q\\research\\images\\pix2pix\\trainingset_v1\\test\\NS'\n",
    "imlist = [_ for _ in os.listdir(src) if _.endswith('png')]\n",
    "randomsubset = sample(imlist,round(len(imlist)*0.15))\n",
    "randomsubset2 = [_.replace('NS','HE') for _ in randomsubset]"
   ],
   "metadata": {
    "collapsed": false,
    "pycharm": {
     "name": "#%%\n"
    }
   }
  },
  {
   "cell_type": "code",
   "execution_count": 18,
   "outputs": [
    {
     "data": {
      "text/plain": "[None,\n None,\n None,\n None,\n None,\n None,\n None,\n None,\n None,\n None,\n None,\n None,\n None,\n None,\n None,\n None,\n None,\n None,\n None,\n None,\n None,\n None,\n None,\n None,\n None,\n None,\n None,\n None,\n None,\n None,\n None,\n None,\n None,\n None,\n None,\n None,\n None,\n None,\n None,\n None,\n None,\n None,\n None,\n None,\n None,\n None,\n None,\n None,\n None,\n None,\n None,\n None,\n None,\n None,\n None,\n None,\n None,\n None,\n None,\n None,\n None,\n None,\n None,\n None,\n None,\n None,\n None,\n None,\n None,\n None,\n None,\n None,\n None,\n None,\n None,\n None,\n None,\n None,\n None,\n None,\n None,\n None,\n None,\n None,\n None,\n None,\n None,\n None,\n None,\n None,\n None,\n None,\n None,\n None,\n None]"
     },
     "execution_count": 18,
     "metadata": {},
     "output_type": "execute_result"
    }
   ],
   "source": [
    "[os.rename(os.path.join(src,_),os.path.join(dst,_)) for _ in randomsubset]\n",
    "[os.rename(os.path.join(src.replace('NS','HE'),_),os.path.join(dst.replace('NS','HE'),_)) for _ in randomsubset2]"
   ],
   "metadata": {
    "collapsed": false,
    "pycharm": {
     "name": "#%%\n"
    }
   }
  },
  {
   "cell_type": "code",
   "execution_count": 22,
   "outputs": [
    {
     "data": {
      "text/plain": "[None,\n None,\n None,\n None,\n None,\n None,\n None,\n None,\n None,\n None,\n None,\n None,\n None,\n None,\n None,\n None,\n None,\n None,\n None,\n None,\n None,\n None,\n None,\n None,\n None,\n None,\n None,\n None,\n None,\n None,\n None,\n None,\n None,\n None,\n None,\n None,\n None,\n None,\n None,\n None,\n None,\n None,\n None,\n None,\n None,\n None,\n None,\n None,\n None,\n None,\n None,\n None,\n None,\n None,\n None,\n None,\n None,\n None,\n None,\n None,\n None,\n None,\n None,\n None,\n None,\n None,\n None,\n None,\n None,\n None,\n None,\n None,\n None,\n None,\n None,\n None,\n None,\n None,\n None,\n None,\n None,\n None,\n None,\n None,\n None,\n None,\n None,\n None,\n None,\n None,\n None,\n None,\n None,\n None,\n None]"
     },
     "execution_count": 22,
     "metadata": {},
     "output_type": "execute_result"
    }
   ],
   "source": [
    "src = r'\\\\fatherserverdw\\Q\\research\\images\\pix2pix\\trainingset_v1\\test\\NS'\n",
    "imlist = [_ for _ in os.listdir(src) if _.endswith('png')]\n",
    "[os.rename(os.path.join(src,_),os.path.join(src,_[2:])) for _ in imlist]"
   ],
   "metadata": {
    "collapsed": false,
    "pycharm": {
     "name": "#%%\n"
    }
   }
  },
  {
   "cell_type": "code",
   "execution_count": 1,
   "outputs": [
    {
     "data": {
      "text/plain": "     prosciaID newID stain\n0       183238  10C2    HE\n1       183239  13C2    HE\n2       183240  16C2    HE\n3       183241  19C2    HE\n4       183242  12C2    HE\n..         ...   ...   ...\n131     182402  70C2    NS\n132     182403  67C2    NS\n133     182404  64C2    NS\n134     182405  61C2    NS\n135     182406  58C2    NS\n\n[136 rows x 3 columns]",
      "text/html": "<div>\n<style scoped>\n    .dataframe tbody tr th:only-of-type {\n        vertical-align: middle;\n    }\n\n    .dataframe tbody tr th {\n        vertical-align: top;\n    }\n\n    .dataframe thead th {\n        text-align: right;\n    }\n</style>\n<table border=\"1\" class=\"dataframe\">\n  <thead>\n    <tr style=\"text-align: right;\">\n      <th></th>\n      <th>prosciaID</th>\n      <th>newID</th>\n      <th>stain</th>\n    </tr>\n  </thead>\n  <tbody>\n    <tr>\n      <th>0</th>\n      <td>183238</td>\n      <td>10C2</td>\n      <td>HE</td>\n    </tr>\n    <tr>\n      <th>1</th>\n      <td>183239</td>\n      <td>13C2</td>\n      <td>HE</td>\n    </tr>\n    <tr>\n      <th>2</th>\n      <td>183240</td>\n      <td>16C2</td>\n      <td>HE</td>\n    </tr>\n    <tr>\n      <th>3</th>\n      <td>183241</td>\n      <td>19C2</td>\n      <td>HE</td>\n    </tr>\n    <tr>\n      <th>4</th>\n      <td>183242</td>\n      <td>12C2</td>\n      <td>HE</td>\n    </tr>\n    <tr>\n      <th>...</th>\n      <td>...</td>\n      <td>...</td>\n      <td>...</td>\n    </tr>\n    <tr>\n      <th>131</th>\n      <td>182402</td>\n      <td>70C2</td>\n      <td>NS</td>\n    </tr>\n    <tr>\n      <th>132</th>\n      <td>182403</td>\n      <td>67C2</td>\n      <td>NS</td>\n    </tr>\n    <tr>\n      <th>133</th>\n      <td>182404</td>\n      <td>64C2</td>\n      <td>NS</td>\n    </tr>\n    <tr>\n      <th>134</th>\n      <td>182405</td>\n      <td>61C2</td>\n      <td>NS</td>\n    </tr>\n    <tr>\n      <th>135</th>\n      <td>182406</td>\n      <td>58C2</td>\n      <td>NS</td>\n    </tr>\n  </tbody>\n</table>\n<p>136 rows × 3 columns</p>\n</div>"
     },
     "execution_count": 1,
     "metadata": {},
     "output_type": "execute_result"
    }
   ],
   "source": [
    "import pandas as pd\n",
    "imID = pd.read_csv(r'\\\\fatherserverdw\\Q\\research\\images\\CLUE\\3D study\\image_ID.csv')\n",
    "imID"
   ],
   "metadata": {
    "collapsed": false,
    "pycharm": {
     "name": "#%%\n"
    }
   }
  },
  {
   "cell_type": "code",
   "execution_count": 5,
   "outputs": [
    {
     "data": {
      "text/plain": "['\\\\\\\\fatherserverdw\\\\Q\\\\research\\\\images\\\\CLUE\\\\3D study\\\\ns\\\\182339.ndpi',\n '\\\\\\\\fatherserverdw\\\\Q\\\\research\\\\images\\\\CLUE\\\\3D study\\\\ns\\\\182340.ndpi',\n '\\\\\\\\fatherserverdw\\\\Q\\\\research\\\\images\\\\CLUE\\\\3D study\\\\ns\\\\182341.ndpi',\n '\\\\\\\\fatherserverdw\\\\Q\\\\research\\\\images\\\\CLUE\\\\3D study\\\\ns\\\\182342.ndpi',\n '\\\\\\\\fatherserverdw\\\\Q\\\\research\\\\images\\\\CLUE\\\\3D study\\\\ns\\\\182343.ndpi',\n '\\\\\\\\fatherserverdw\\\\Q\\\\research\\\\images\\\\CLUE\\\\3D study\\\\ns\\\\182344.ndpi',\n '\\\\\\\\fatherserverdw\\\\Q\\\\research\\\\images\\\\CLUE\\\\3D study\\\\ns\\\\182345.ndpi',\n '\\\\\\\\fatherserverdw\\\\Q\\\\research\\\\images\\\\CLUE\\\\3D study\\\\ns\\\\182346.ndpi',\n '\\\\\\\\fatherserverdw\\\\Q\\\\research\\\\images\\\\CLUE\\\\3D study\\\\ns\\\\182347.ndpi',\n '\\\\\\\\fatherserverdw\\\\Q\\\\research\\\\images\\\\CLUE\\\\3D study\\\\ns\\\\182348.ndpi',\n '\\\\\\\\fatherserverdw\\\\Q\\\\research\\\\images\\\\CLUE\\\\3D study\\\\ns\\\\182349.ndpi',\n '\\\\\\\\fatherserverdw\\\\Q\\\\research\\\\images\\\\CLUE\\\\3D study\\\\ns\\\\182350.ndpi',\n '\\\\\\\\fatherserverdw\\\\Q\\\\research\\\\images\\\\CLUE\\\\3D study\\\\ns\\\\182351.ndpi',\n '\\\\\\\\fatherserverdw\\\\Q\\\\research\\\\images\\\\CLUE\\\\3D study\\\\ns\\\\182352.ndpi',\n '\\\\\\\\fatherserverdw\\\\Q\\\\research\\\\images\\\\CLUE\\\\3D study\\\\ns\\\\182353.ndpi',\n '\\\\\\\\fatherserverdw\\\\Q\\\\research\\\\images\\\\CLUE\\\\3D study\\\\ns\\\\182354.ndpi',\n '\\\\\\\\fatherserverdw\\\\Q\\\\research\\\\images\\\\CLUE\\\\3D study\\\\ns\\\\182355.ndpi',\n '\\\\\\\\fatherserverdw\\\\Q\\\\research\\\\images\\\\CLUE\\\\3D study\\\\ns\\\\182356.ndpi',\n '\\\\\\\\fatherserverdw\\\\Q\\\\research\\\\images\\\\CLUE\\\\3D study\\\\ns\\\\182357.ndpi',\n '\\\\\\\\fatherserverdw\\\\Q\\\\research\\\\images\\\\CLUE\\\\3D study\\\\ns\\\\182358.ndpi',\n '\\\\\\\\fatherserverdw\\\\Q\\\\research\\\\images\\\\CLUE\\\\3D study\\\\ns\\\\182359.ndpi',\n '\\\\\\\\fatherserverdw\\\\Q\\\\research\\\\images\\\\CLUE\\\\3D study\\\\ns\\\\182360.ndpi',\n '\\\\\\\\fatherserverdw\\\\Q\\\\research\\\\images\\\\CLUE\\\\3D study\\\\ns\\\\182361.ndpi',\n '\\\\\\\\fatherserverdw\\\\Q\\\\research\\\\images\\\\CLUE\\\\3D study\\\\ns\\\\182362.ndpi',\n '\\\\\\\\fatherserverdw\\\\Q\\\\research\\\\images\\\\CLUE\\\\3D study\\\\ns\\\\182363.ndpi',\n '\\\\\\\\fatherserverdw\\\\Q\\\\research\\\\images\\\\CLUE\\\\3D study\\\\ns\\\\182364.ndpi',\n '\\\\\\\\fatherserverdw\\\\Q\\\\research\\\\images\\\\CLUE\\\\3D study\\\\ns\\\\182365.ndpi',\n '\\\\\\\\fatherserverdw\\\\Q\\\\research\\\\images\\\\CLUE\\\\3D study\\\\ns\\\\182366.ndpi',\n '\\\\\\\\fatherserverdw\\\\Q\\\\research\\\\images\\\\CLUE\\\\3D study\\\\ns\\\\182367.ndpi',\n '\\\\\\\\fatherserverdw\\\\Q\\\\research\\\\images\\\\CLUE\\\\3D study\\\\ns\\\\182368.ndpi',\n '\\\\\\\\fatherserverdw\\\\Q\\\\research\\\\images\\\\CLUE\\\\3D study\\\\ns\\\\182369.ndpi',\n '\\\\\\\\fatherserverdw\\\\Q\\\\research\\\\images\\\\CLUE\\\\3D study\\\\ns\\\\182370.ndpi',\n '\\\\\\\\fatherserverdw\\\\Q\\\\research\\\\images\\\\CLUE\\\\3D study\\\\ns\\\\182371.ndpi',\n '\\\\\\\\fatherserverdw\\\\Q\\\\research\\\\images\\\\CLUE\\\\3D study\\\\ns\\\\182372.ndpi',\n '\\\\\\\\fatherserverdw\\\\Q\\\\research\\\\images\\\\CLUE\\\\3D study\\\\ns\\\\182373.ndpi',\n '\\\\\\\\fatherserverdw\\\\Q\\\\research\\\\images\\\\CLUE\\\\3D study\\\\ns\\\\182374.ndpi',\n '\\\\\\\\fatherserverdw\\\\Q\\\\research\\\\images\\\\CLUE\\\\3D study\\\\ns\\\\182375.ndpi',\n '\\\\\\\\fatherserverdw\\\\Q\\\\research\\\\images\\\\CLUE\\\\3D study\\\\ns\\\\182376.ndpi',\n '\\\\\\\\fatherserverdw\\\\Q\\\\research\\\\images\\\\CLUE\\\\3D study\\\\ns\\\\182377.ndpi',\n '\\\\\\\\fatherserverdw\\\\Q\\\\research\\\\images\\\\CLUE\\\\3D study\\\\ns\\\\182378.ndpi',\n '\\\\\\\\fatherserverdw\\\\Q\\\\research\\\\images\\\\CLUE\\\\3D study\\\\ns\\\\182379.ndpi',\n '\\\\\\\\fatherserverdw\\\\Q\\\\research\\\\images\\\\CLUE\\\\3D study\\\\ns\\\\182380.ndpi',\n '\\\\\\\\fatherserverdw\\\\Q\\\\research\\\\images\\\\CLUE\\\\3D study\\\\ns\\\\182381.ndpi',\n '\\\\\\\\fatherserverdw\\\\Q\\\\research\\\\images\\\\CLUE\\\\3D study\\\\ns\\\\182382.ndpi',\n '\\\\\\\\fatherserverdw\\\\Q\\\\research\\\\images\\\\CLUE\\\\3D study\\\\ns\\\\182383.ndpi',\n '\\\\\\\\fatherserverdw\\\\Q\\\\research\\\\images\\\\CLUE\\\\3D study\\\\ns\\\\182384.ndpi',\n '\\\\\\\\fatherserverdw\\\\Q\\\\research\\\\images\\\\CLUE\\\\3D study\\\\ns\\\\182385.ndpi',\n '\\\\\\\\fatherserverdw\\\\Q\\\\research\\\\images\\\\CLUE\\\\3D study\\\\ns\\\\182386.ndpi',\n '\\\\\\\\fatherserverdw\\\\Q\\\\research\\\\images\\\\CLUE\\\\3D study\\\\ns\\\\182387.ndpi',\n '\\\\\\\\fatherserverdw\\\\Q\\\\research\\\\images\\\\CLUE\\\\3D study\\\\ns\\\\182388.ndpi',\n '\\\\\\\\fatherserverdw\\\\Q\\\\research\\\\images\\\\CLUE\\\\3D study\\\\ns\\\\182389.ndpi',\n '\\\\\\\\fatherserverdw\\\\Q\\\\research\\\\images\\\\CLUE\\\\3D study\\\\ns\\\\182390.ndpi',\n '\\\\\\\\fatherserverdw\\\\Q\\\\research\\\\images\\\\CLUE\\\\3D study\\\\ns\\\\182391.ndpi',\n '\\\\\\\\fatherserverdw\\\\Q\\\\research\\\\images\\\\CLUE\\\\3D study\\\\ns\\\\182392.ndpi',\n '\\\\\\\\fatherserverdw\\\\Q\\\\research\\\\images\\\\CLUE\\\\3D study\\\\ns\\\\182393.ndpi',\n '\\\\\\\\fatherserverdw\\\\Q\\\\research\\\\images\\\\CLUE\\\\3D study\\\\ns\\\\182394.ndpi',\n '\\\\\\\\fatherserverdw\\\\Q\\\\research\\\\images\\\\CLUE\\\\3D study\\\\ns\\\\182395.ndpi',\n '\\\\\\\\fatherserverdw\\\\Q\\\\research\\\\images\\\\CLUE\\\\3D study\\\\ns\\\\182396.ndpi',\n '\\\\\\\\fatherserverdw\\\\Q\\\\research\\\\images\\\\CLUE\\\\3D study\\\\ns\\\\182397.ndpi',\n '\\\\\\\\fatherserverdw\\\\Q\\\\research\\\\images\\\\CLUE\\\\3D study\\\\ns\\\\182398.ndpi',\n '\\\\\\\\fatherserverdw\\\\Q\\\\research\\\\images\\\\CLUE\\\\3D study\\\\ns\\\\182399.ndpi',\n '\\\\\\\\fatherserverdw\\\\Q\\\\research\\\\images\\\\CLUE\\\\3D study\\\\ns\\\\182400.ndpi',\n '\\\\\\\\fatherserverdw\\\\Q\\\\research\\\\images\\\\CLUE\\\\3D study\\\\ns\\\\182401.ndpi',\n '\\\\\\\\fatherserverdw\\\\Q\\\\research\\\\images\\\\CLUE\\\\3D study\\\\ns\\\\182402.ndpi',\n '\\\\\\\\fatherserverdw\\\\Q\\\\research\\\\images\\\\CLUE\\\\3D study\\\\ns\\\\182403.ndpi',\n '\\\\\\\\fatherserverdw\\\\Q\\\\research\\\\images\\\\CLUE\\\\3D study\\\\ns\\\\182404.ndpi',\n '\\\\\\\\fatherserverdw\\\\Q\\\\research\\\\images\\\\CLUE\\\\3D study\\\\ns\\\\182405.ndpi',\n '\\\\\\\\fatherserverdw\\\\Q\\\\research\\\\images\\\\CLUE\\\\3D study\\\\ns\\\\182406.ndpi']"
     },
     "execution_count": 5,
     "metadata": {},
     "output_type": "execute_result"
    }
   ],
   "source": [
    "src = r'\\\\fatherserverdw\\Q\\research\\images\\CLUE\\3D study\\ns'\n",
    "imlist = glob.glob(os.path.join(src,'*ndpi'))\n",
    "imlist"
   ],
   "metadata": {
    "collapsed": false,
    "pycharm": {
     "name": "#%%\n"
    }
   }
  },
  {
   "cell_type": "code",
   "execution_count": 6,
   "outputs": [],
   "source": [
    "for im in imlist:\n",
    "    a=os.path.splitext(os.path.split(im)[1])[0]\n",
    "    newnm = imID[imID['prosciaID']==int(a)]['newID'].iloc[0]+'.ndpi'\n",
    "    newnm = os.path.join(src,newnm)\n",
    "    os.rename(im,newnm)"
   ],
   "metadata": {
    "collapsed": false,
    "pycharm": {
     "name": "#%%\n"
    }
   }
  }
 ],
 "metadata": {
  "kernelspec": {
   "display_name": "Python 3",
   "language": "python",
   "name": "python3"
  },
  "language_info": {
   "codemirror_mode": {
    "name": "ipython",
    "version": 2
   },
   "file_extension": ".py",
   "mimetype": "text/x-python",
   "name": "python",
   "nbconvert_exporter": "python",
   "pygments_lexer": "ipython2",
   "version": "2.7.6"
  }
 },
 "nbformat": 4,
 "nbformat_minor": 0
}