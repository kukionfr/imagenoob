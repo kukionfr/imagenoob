{
 "cells": [
  {
   "cell_type": "code",
   "execution_count": 143,
   "outputs": [],
   "source": [
    "import os\n",
    "import glob\n",
    "from PIL import Image\n",
    "import numpy as np\n",
    "from matplotlib import pyplot as plt\n",
    "import cv2\n",
    "from time import time"
   ],
   "metadata": {
    "collapsed": false,
    "pycharm": {
     "name": "#%%\n"
    }
   }
  },
  {
   "cell_type": "code",
   "execution_count": 142,
   "outputs": [],
   "source": [
    "def _time(f):\n",
    "    def wrapper(*args,**kwargs):\n",
    "        start=time()\n",
    "        r=f(*args,**kwargs)\n",
    "        end=time()\n",
    "        print(\"%s timed %f\" %(f.__name__,end-start))\n",
    "        return r\n",
    "    return wrapper\n",
    "\n",
    "@_time\n",
    "def stitchtiles(impths):\n",
    "    # pre-allocate stitched image\n",
    "    overlap = 0.1\n",
    "    overlap = overlap/2 # cut this much from all sides of the image\n",
    "    tilesz = Image.open(impths[0]).size\n",
    "    pixel2adjust = round(tilesz[0]*overlap) # cut this much from all sides of the image\n",
    "    cuttile = np.zeros(tilesz)[pixel2adjust:-pixel2adjust,pixel2adjust:-pixel2adjust]\n",
    "    column = round(np.sqrt(tiles_per_well))\n",
    "    row = round(np.sqrt(tiles_per_well))\n",
    "    imstack = np.repeat(cuttile[np.newaxis,:, :], column, axis=0)\n",
    "    imstack = np.repeat(imstack[np.newaxis, :, :, :], row, axis=0)\n",
    "    # read tile into each grid\n",
    "    for idx,im in enumerate(impths):\n",
    "        rowidx = idx//4\n",
    "        colidx = idx%4\n",
    "        imstack[rowidx,colidx,:,:]=np.array(Image.open(im))[pixel2adjust:-pixel2adjust,pixel2adjust:-pixel2adjust]\n",
    "    # re-order tiles for snake style\n",
    "    imstack[1::2,:,:,:]=imstack[1::2,::-1,:,:]\n",
    "    # stitch\n",
    "    imstack = imstack.swapaxes(1,2)\n",
    "    imstack = imstack.reshape(cuttile.shape[0]*row,cuttile.shape[1]*column)\n",
    "    # normalize\n",
    "    imstack_norm = cv2.normalize(imstack, None, alpha = 0, beta = 65535, norm_type = cv2.NORM_MINMAX, dtype = cv2.CV_16U)\n",
    "    return imstack_norm"
   ],
   "metadata": {
    "collapsed": false,
    "pycharm": {
     "name": "#%%\n"
    }
   }
  },
  {
   "cell_type": "code",
   "execution_count": 144,
   "outputs": [
    {
     "name": "stdout",
     "output_type": "stream",
     "text": [
      "0 16\n",
      "16 32\n",
      "32 48\n",
      "48 64\n",
      "64 80\n",
      "80 96\n",
      "96 112\n",
      "112 128\n",
      "128 144\n",
      "144 160\n",
      "160 176\n",
      "176 192\n",
      "192 208\n",
      "208 224\n",
      "224 240\n",
      "240 256\n",
      "256 272\n",
      "272 288\n",
      "288 304\n",
      "304 320\n",
      "320 336\n",
      "336 352\n",
      "352 368\n",
      "368 384\n"
     ]
    }
   ],
   "source": [
    "src=r'\\\\fatherserverdw\\Bart\\Stiffness\\^Bleomycin Growth Curve\\Plastic - Low Dose\\Bio 3 - P6\\20220309_GT22_Day0'\n",
    "dst=os.path.join(src,'output')\n",
    "ims = glob.glob(os.path.join(src,'*tif'))\n",
    "tiles_per_well = 16\n",
    "num_well = 24\n",
    "for wellID in range(num_well):\n",
    "    print(wellID+1,'/',num_well)\n",
    "    ims2 = ims[wellID*tiles_per_well:wellID*tiles_per_well+tiles_per_well] # build for-loop in this line to process the entire folder\n",
    "    imstack = stitchtiles(ims2)\n",
    "    png = Image.fromarray(imstack)\n",
    "    png.save(os.path.join(dst,'{}.png'.format(wellID)))"
   ],
   "metadata": {
    "collapsed": false,
    "pycharm": {
     "name": "#%%\n"
    }
   }
  }
 ],
 "metadata": {
  "kernelspec": {
   "display_name": "Python 3",
   "language": "python",
   "name": "python3"
  },
  "language_info": {
   "codemirror_mode": {
    "name": "ipython",
    "version": 2
   },
   "file_extension": ".py",
   "mimetype": "text/x-python",
   "name": "python",
   "nbconvert_exporter": "python",
   "pygments_lexer": "ipython2",
   "version": "2.7.6"
  }
 },
 "nbformat": 4,
 "nbformat_minor": 0
}