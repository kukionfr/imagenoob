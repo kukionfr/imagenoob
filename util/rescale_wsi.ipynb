{
 "cells": [
  {
   "cell_type": "code",
   "execution_count": 1,
   "metadata": {
    "collapsed": true
   },
   "outputs": [],
   "source": [
    "from openslide import OpenSlide\n",
    "from PIL import Image\n",
    "import numpy as np\n",
    "import os\n",
    "from time import time"
   ]
  },
  {
   "cell_type": "code",
   "execution_count": 2,
   "outputs": [],
   "source": [
    "def svs2tiff(svs,rsf):\n",
    "    src,fn = os.path.split(svs)\n",
    "    fn,ext = os.path.splitext(fn)\n",
    "    fn1 = fn + '.jpg'\n",
    "    if os.path.exists(os.path.join(svs_dst,fn1)): return\n",
    "    print(fn)\n",
    "    svs_obj = OpenSlide(svs)\n",
    "    svs_img = svs_obj.read_region(location=(0,0),level=0,size=svs_obj.level_dimensions[0]).convert('RGB')\n",
    "    resize_factorx = rsf/float(svs_obj.properties['openslide.mpp-x']) #8um = 1.25x #4um = 2.5x, #2um=5x, 1um=10x, 0.5um=20x, 0.25um=40x\n",
    "    resize_factory = rsf/float(svs_obj.properties['openslide.mpp-y'])\n",
    "    resize_dimension = tuple([int(np.ceil(svs_obj.dimensions[0]/resize_factorx)),int(np.ceil(svs_obj.dimensions[1]/resize_factory))])\n",
    "    svs_img = svs_img.resize(resize_dimension,resample=Image.NEAREST)\n",
    "    svs_img.save(os.path.join(svs_dst,fn1),resolution=1,resolution_unit=1,quality=100,compression=None)"
   ],
   "metadata": {
    "collapsed": false,
    "pycharm": {
     "name": "#%%\n"
    }
   }
  },
  {
   "cell_type": "code",
   "execution_count": 3,
   "outputs": [],
   "source": [
    "svs_src = r'\\\\fatherserverdw\\Q\\research\\images\\CLUE\\3D study\\he\\c1'\n",
    "svs_dst = r'\\\\fatherserverdw\\Q\\research\\images\\CLUE\\3D study\\he'\n",
    "# if not os.path.exists(svs_dst):\n",
    "#     os.mkdir(svs_dst)\n",
    "svss = [os.path.join(svs_src,_) for _ in os.listdir(svs_src) if _.endswith(('ndpi','svs')) ]"
   ],
   "metadata": {
    "collapsed": false,
    "pycharm": {
     "name": "#%%\n"
    }
   }
  },
  {
   "cell_type": "code",
   "execution_count": 4,
   "outputs": [
    {
     "name": "stdout",
     "output_type": "stream",
     "text": [
      "100C1\n",
      "0 / 34\n",
      "10C1\n",
      "1 / 34\n",
      "13C1\n",
      "2 / 34\n",
      "16C1\n",
      "3 / 34\n",
      "19C1\n",
      "4 / 34\n",
      "1C1\n",
      "5 / 34\n",
      "22C1\n",
      "6 / 34\n",
      "25C1\n",
      "7 / 34\n",
      "28C1\n",
      "8 / 34\n",
      "31C1\n",
      "9 / 34\n",
      "34C1\n",
      "10 / 34\n",
      "37C1\n",
      "11 / 34\n",
      "40C1\n",
      "12 / 34\n",
      "43C1\n",
      "13 / 34\n",
      "46C1\n",
      "14 / 34\n",
      "49C1\n",
      "15 / 34\n",
      "4C1\n",
      "16 / 34\n",
      "52C1\n",
      "17 / 34\n",
      "55C1\n",
      "18 / 34\n",
      "58C1\n",
      "19 / 34\n",
      "61C1\n",
      "20 / 34\n",
      "64C1\n",
      "21 / 34\n",
      "67C1\n",
      "22 / 34\n",
      "70C1\n",
      "23 / 34\n",
      "73C1\n",
      "24 / 34\n",
      "76C1\n",
      "25 / 34\n",
      "79C1\n",
      "26 / 34\n",
      "7C1\n",
      "27 / 34\n",
      "82C1\n",
      "28 / 34\n",
      "85C1\n",
      "29 / 34\n",
      "88C1\n",
      "30 / 34\n",
      "91C1\n",
      "31 / 34\n",
      "94C1\n",
      "32 / 34\n",
      "97C1\n",
      "33 / 34\n",
      "44667.20 sec elapsed for 34 images at 10x\n"
     ]
    }
   ],
   "source": [
    "st = time()\n",
    "for idx,svs in enumerate(svss):\n",
    "    try:\n",
    "        svs2tiff(svs,8)\n",
    "        print(idx,'/',len(svss))\n",
    "    except:\n",
    "        print('error in the following image')\n",
    "        print(svs)\n",
    "        continue\n",
    "\n",
    "print(\"{:.2f} sec elapsed for {:d} images at 10x\".format(time()-st,len(svss)))"
   ],
   "metadata": {
    "collapsed": false,
    "pycharm": {
     "name": "#%%\n"
    }
   }
  }
 ],
 "metadata": {
  "kernelspec": {
   "display_name": "Python 3",
   "language": "python",
   "name": "python3"
  },
  "language_info": {
   "codemirror_mode": {
    "name": "ipython",
    "version": 2
   },
   "file_extension": ".py",
   "mimetype": "text/x-python",
   "name": "python",
   "nbconvert_exporter": "python",
   "pygments_lexer": "ipython2",
   "version": "2.7.6"
  }
 },
 "nbformat": 4,
 "nbformat_minor": 0
}