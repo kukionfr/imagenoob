{
 "cells": [
  {
   "cell_type": "code",
   "execution_count": null,
   "metadata": {
    "collapsed": true
   },
   "outputs": [],
   "source": [
    "import cv2\n",
    "path_to_img = \"\"\n",
    "img = cv2.imread(path_to_img)\n",
    "img_h, img_w, _ = img.shape\n",
    "split_width = 150\n",
    "split_height = 150\n",
    "\n",
    "\n",
    "def start_points(size, split_size, overlap=0):\n",
    "    points = [0]\n",
    "    stride = int(split_size * (1-overlap))\n",
    "    counter = 1\n",
    "    while True:\n",
    "        pt = stride * counter\n",
    "        if pt + split_size >= size:\n",
    "            points.append(size - split_size)\n",
    "            break\n",
    "        else:\n",
    "            points.append(pt)\n",
    "        counter += 1\n",
    "    return points\n",
    "\n",
    "\n",
    "X_points = start_points(img_w, split_width, 0.5)\n",
    "Y_points = start_points(img_h, split_height, 0.5)\n",
    "\n",
    "count = 0\n",
    "name = 'splitted'\n",
    "frmt = 'jpeg'\n",
    "\n",
    "for i in Y_points:\n",
    "    for j in X_points:\n",
    "        split = img[i:i+split_height, j:j+split_width]\n",
    "        cv2.imwrite('{}_{}.{}'.format(name, count, frmt), split)\n",
    "        count += 1"
   ]
  }
 ],
 "metadata": {
  "kernelspec": {
   "display_name": "Python 3",
   "language": "python",
   "name": "python3"
  },
  "language_info": {
   "codemirror_mode": {
    "name": "ipython",
    "version": 2
   },
   "file_extension": ".py",
   "mimetype": "text/x-python",
   "name": "python",
   "nbconvert_exporter": "python",
   "pygments_lexer": "ipython2",
   "version": "2.7.6"
  }
 },
 "nbformat": 4,
 "nbformat_minor": 0
}