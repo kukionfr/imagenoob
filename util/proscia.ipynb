{
 "cells": [
  {
   "cell_type": "code",
   "execution_count": 19,
   "outputs": [],
   "source": [
    "import requests\n",
    "import shutil\n",
    "import os\n",
    "import base64"
   ],
   "metadata": {
    "collapsed": false,
    "pycharm": {
     "name": "#%%\n"
    }
   }
  },
  {
   "cell_type": "code",
   "execution_count": 15,
   "outputs": [],
   "source": [
    "class Concentriq:\n",
    "\tdef __init__(self, endpoint=None, email=None, password=None):\n",
    "\t\tself.endpoint = '{}/api'.format(endpoint)\n",
    "\t\tself.session = requests.Session()\n",
    "\t\tauth_header = 'Basic {}'.format(base64.b64encode(bytes('{}:{}'.format(email,password), 'utf-8')).decode('utf-8'))\n",
    "\t\tself.session.headers.update({'Authorization': auth_header})"
   ],
   "metadata": {
    "collapsed": false,
    "pycharm": {
     "name": "#%%\n"
    }
   }
  },
  {
   "cell_type": "code",
   "execution_count": 10,
   "outputs": [],
   "source": [
    "def downloadImage(concentriq, imageId, outfolder):\n",
    "\turl = '{}/images/{}/download'.format(concentriq.endpoint, imageId)\n",
    "\tresponse = concentriq.session.get(url, allow_redirects=False)\n",
    "\tdownload_url = response.text[22:]\n",
    "\tfilepath = os.path.join(outfolder, f\"{imageId}.ndpi\")\n",
    "\twith open(filepath, \"wb\") as file:\n",
    "\t\tdata = requests.get(download_url, stream=True)\n",
    "\t\tdata.raw.decode_content = True\n",
    "\t\tshutil.copyfileobj(data.raw, file)"
   ],
   "metadata": {
    "collapsed": false,
    "pycharm": {
     "name": "#%%\n"
    }
   }
  },
  {
   "cell_type": "code",
   "execution_count": 18,
   "outputs": [],
   "source": [
    "userk = 'kyuhan14@gmail.com'\n",
    "passwordk = 'hks950106'\n",
    "endpointk = 'https://digital.pathology.johnshopkins.edu'\n",
    "cq = Concentriq(endpoint=endpointk,\n",
    "\t\t\t\temail=userk,\n",
    "\t\t\t\tpassword=passwordk)\n",
    "outfolder = r'\\\\fatherserverdw\\Q\\research\\images\\CLUE\\3D study'\n",
    "idrange = [182340,182406]\n",
    "ids = range(idrange[0],idrange[1]+1)"
   ],
   "metadata": {
    "collapsed": false,
    "pycharm": {
     "name": "#%%\n"
    }
   }
  },
  {
   "cell_type": "code",
   "execution_count": null,
   "outputs": [],
   "source": [
    "for imageId in ids:\n",
    "\ttry:\n",
    "\t\tdownloadImage(cq, str(imageId), outfolder)\n",
    "\texcept:\n",
    "\t\tprint(imageId)\n",
    "\t\tcontinue"
   ],
   "metadata": {
    "collapsed": false,
    "pycharm": {
     "name": "#%%\n"
    }
   }
  }
 ],
 "metadata": {
  "kernelspec": {
   "display_name": "Python 3",
   "language": "python",
   "name": "python3"
  },
  "language_info": {
   "codemirror_mode": {
    "name": "ipython",
    "version": 2
   },
   "file_extension": ".py",
   "mimetype": "text/x-python",
   "name": "python",
   "nbconvert_exporter": "python",
   "pygments_lexer": "ipython2",
   "version": "2.7.6"
  }
 },
 "nbformat": 4,
 "nbformat_minor": 0
}